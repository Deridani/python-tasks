{
  "nbformat": 4,
  "nbformat_minor": 0,
  "metadata": {
    "colab": {
      "provenance": []
    },
    "kernelspec": {
      "name": "python3",
      "display_name": "Python 3"
    },
    "language_info": {
      "name": "python"
    }
  },
  "cells": [
    {
      "cell_type": "markdown",
      "source": [
        "1. Write a Python program to check that a string contains only a certain set of characters (in this case a-z, A-Z and 0-9).\n",
        "\n"
      ],
      "metadata": {
        "id": "fpQX9wBhb6ox"
      }
    },
    {
      "cell_type": "code",
      "execution_count": 1,
      "metadata": {
        "id": "5HKhizIkbt59",
        "colab": {
          "base_uri": "https://localhost:8080/"
        },
        "outputId": "d062be8e-914b-452a-a691-ebd21bd89389"
      },
      "outputs": [
        {
          "output_type": "stream",
          "name": "stdout",
          "text": [
            "string contains some special characters\n"
          ]
        }
      ],
      "source": [
        "import re\n",
        "\n",
        "text = \"holy bible@2023\"\n",
        "pattern = r'^[a-zA-Z0-9]+$'\n",
        "if re.match(pattern, text):\n",
        "  print(\"string contains only a-z, A-Z and 0-9\")\n",
        "else:\n",
        "  print(\"string contains some special characters\")"
      ]
    },
    {
      "cell_type": "markdown",
      "source": [
        "2. Write a Python program that matches a string that has an a followed by zero or more b's.\n",
        "\n"
      ],
      "metadata": {
        "id": "rtdxRzltcRtS"
      }
    },
    {
      "cell_type": "code",
      "source": [
        "import re\n",
        "\n",
        "text = \"abbb,0bbb,cdebb\"\n",
        "pattern = r'\\s[ab*]'\n",
        "matchword = re.findall(pattern, text)\n",
        "if matchword:\n",
        "  print('found', matchword)\n",
        "else:\n",
        "  print('did not find')"
      ],
      "metadata": {
        "id": "ZjdCBYZAcZGl",
        "colab": {
          "base_uri": "https://localhost:8080/"
        },
        "outputId": "81aa173c-0f91-4757-c8ce-13fe5d3342b6"
      },
      "execution_count": 2,
      "outputs": [
        {
          "output_type": "stream",
          "name": "stdout",
          "text": [
            "did not find\n"
          ]
        }
      ]
    },
    {
      "cell_type": "markdown",
      "source": [
        "3. Replace only the first occurrence of 5 with five for the given string\n",
        "\n"
      ],
      "metadata": {
        "id": "kyvbz3eNcZri"
      }
    },
    {
      "cell_type": "code",
      "source": [
        "ip = 'They ate 5 apples and 5 oranges'\n",
        "print(re.sub(r'5', r'five', ip,1))\n"
      ],
      "metadata": {
        "id": "pgZy45dxcqSg",
        "colab": {
          "base_uri": "https://localhost:8080/"
        },
        "outputId": "334da0fe-0c78-4928-8070-8534ed9bb389"
      },
      "execution_count": null,
      "outputs": [
        {
          "output_type": "stream",
          "name": "stdout",
          "text": [
            "They ate five apples and 5 oranges\n"
          ]
        }
      ]
    },
    {
      "cell_type": "markdown",
      "source": [
        "4. Write a Python program that matches a string that has an a followed by three 'b'.\n",
        "\n"
      ],
      "metadata": {
        "id": "h_b1-o6ncuzM"
      }
    },
    {
      "cell_type": "code",
      "source": [
        "import re\n",
        "\n",
        "text = \"bbbb,abbb,bbbe\"\n",
        "pattern = r'a{1}b{3}'\n",
        "matches=re.search(pattern,text)\n",
        "if matches:\n",
        "  print(\"Match found\")\n",
        "  print(matches)\n",
        "else:\n",
        "  print(\"No matches\")\n"
      ],
      "metadata": {
        "id": "eWIRl3LccqwE",
        "colab": {
          "base_uri": "https://localhost:8080/"
        },
        "outputId": "d552969d-8ce1-4014-d2aa-9a0291f0cea4"
      },
      "execution_count": 4,
      "outputs": [
        {
          "output_type": "stream",
          "name": "stdout",
          "text": [
            "Match found\n",
            "<re.Match object; span=(5, 9), match='abbb'>\n"
          ]
        }
      ]
    },
    {
      "cell_type": "markdown",
      "source": [
        "5. Write a Python program that matches a string that has an 'a' followed by anything ending in 'b'.\n",
        "\n"
      ],
      "metadata": {
        "id": "K2vPe01bc2LN"
      }
    },
    {
      "cell_type": "code",
      "source": [
        "import re\n",
        "\n",
        "text = input(\"Enter the string: \")\n",
        "pattern = r'a.*b$'\n",
        "matches = re.search(pattern,text)\n",
        "if matches:\n",
        "  print(\"Match found\")\n",
        "  print(matches)\n",
        "else:\n",
        "  print(\"No matches found\")\n"
      ],
      "metadata": {
        "id": "f8KfX59qc3UJ",
        "colab": {
          "base_uri": "https://localhost:8080/"
        },
        "outputId": "0213e5e8-0f77-42eb-f6a6-d57bd19a5b4a"
      },
      "execution_count": 5,
      "outputs": [
        {
          "output_type": "stream",
          "name": "stdout",
          "text": [
            "Enter the string: abbbb\n",
            "Match found\n",
            "<re.Match object; span=(0, 5), match='abbbb'>\n"
          ]
        }
      ]
    },
    {
      "cell_type": "markdown",
      "source": [
        "6. Write a Python program to search for numbers (0-9) of length between 1 and 3 in a given string."
      ],
      "metadata": {
        "id": "NyL-DhqXdZi7"
      }
    },
    {
      "cell_type": "code",
      "source": [
        "import re\n",
        "def find_numbers(text):\n",
        "  numbers=re.findall(r'\\b\\d{1,3}\\b',text)\n",
        "  return numbers\n",
        "txt=\"Exercises number 1, 12, 13, and 345 are important\"\n",
        "result=find_numbers(text)\n",
        "print(\"numbers found:\",result)"
      ],
      "metadata": {
        "id": "pWsu0HljdnKX",
        "colab": {
          "base_uri": "https://localhost:8080/"
        },
        "outputId": "96f9fce3-6537-4089-ee4f-5bf9aed3157c"
      },
      "execution_count": 7,
      "outputs": [
        {
          "output_type": "stream",
          "name": "stdout",
          "text": [
            "numbers found: []\n"
          ]
        }
      ]
    },
    {
      "cell_type": "markdown",
      "source": [
        "7. Write a Python program to search for literal strings within a string.\\\n",
        "Sample text : 'The quick brown fox jumps over the lazy dog.' \\\n",
        "Searched words : 'fox', 'dog', 'horse'"
      ],
      "metadata": {
        "id": "aWaHWXFjdqy7"
      }
    },
    {
      "cell_type": "code",
      "source": [
        "import re\n",
        "\n",
        "sample_text = 'The quick brown fox jumps over the lazy dog.'\n",
        "searched_words = ['fox', 'dog', 'horse']\n",
        "\n",
        "for word in searched_words:\n",
        "    pattern = re.escape(word)\n",
        "    if re.search(pattern, sample_text):\n",
        "        print(f\"'{word}' found in the sample text.\")\n",
        "    else:\n",
        "        print(f\"'{word}' not found in the sample text.\")\n"
      ],
      "metadata": {
        "id": "bVAMeTMddnmf",
        "colab": {
          "base_uri": "https://localhost:8080/"
        },
        "outputId": "ac091b9e-13f4-4d3b-bf57-b8af9e05c97c"
      },
      "execution_count": 8,
      "outputs": [
        {
          "output_type": "stream",
          "name": "stdout",
          "text": [
            "'fox' found in the sample text.\n",
            "'dog' found in the sample text.\n",
            "'horse' not found in the sample text.\n"
          ]
        }
      ]
    },
    {
      "cell_type": "markdown",
      "source": [
        "8. Write a Python program to search for a literal string in a string and also find the location within the original string where the pattern occurs.\n",
        "\n",
        "Sample text : 'The quick brown fox jumps over the lazy dog.' \\\n",
        "Searched words : 'fox'"
      ],
      "metadata": {
        "id": "2cgZLc6Yd0sE"
      }
    },
    {
      "cell_type": "code",
      "source": [
        "import re\n",
        "sample_text = 'The quick brown fox jumps over the lazy dog.'\n",
        "search_word = 'fox'\n",
        "\n",
        "position = sample_text.find(search_word)\n",
        "\n",
        "if position != -1:\n",
        "    print(f\"'{search_word}' found at position {position} in the text.\")\n",
        "else:\n",
        "    print(f\"'{search_word}' not found in the text.\")\n"
      ],
      "metadata": {
        "id": "Tj1FCCx4d3zZ",
        "colab": {
          "base_uri": "https://localhost:8080/"
        },
        "outputId": "eae053d2-a66f-40b5-f425-9d2c8aa8929b"
      },
      "execution_count": 9,
      "outputs": [
        {
          "output_type": "stream",
          "name": "stdout",
          "text": [
            "'fox' found at position 16 in the text.\n"
          ]
        }
      ]
    },
    {
      "cell_type": "markdown",
      "source": [
        "9.  Write a Python program to extract year, month and date from an URL"
      ],
      "metadata": {
        "id": "ixuwdsnvdtcP"
      }
    },
    {
      "cell_type": "code",
      "source": [
        "import re\n",
        "url1= \"https://www.washingtonpost.com/news/football-insider/wp/2016/09/02/odell-beckhams-fame-rests-on-one-stupid-little-ball-josh-norman-tells-author/\"\n",
        "\n",
        "date_pattern = r'(\\d{4})/(\\d{2})/(\\d{2})/'\n",
        "match = re.search(date_pattern, url1)\n",
        "\n",
        "if match:\n",
        "    year = match.group(1)\n",
        "    month = match.group(2)\n",
        "    day = match.group(3)\n",
        "    print(f\"Year: {year}\")\n",
        "    print(f\"Month: {month}\")\n",
        "    print(f\"Day: {day}\")\n",
        "else:\n",
        "    print(\"Date not found in the URL\")\n"
      ],
      "metadata": {
        "id": "uWA2_OfJeFpw",
        "colab": {
          "base_uri": "https://localhost:8080/"
        },
        "outputId": "5bb23fa4-73d6-43a0-c3c1-a8c6720a9a8c"
      },
      "execution_count": 10,
      "outputs": [
        {
          "output_type": "stream",
          "name": "stdout",
          "text": [
            "Year: 2016\n",
            "Month: 09\n",
            "Day: 02\n"
          ]
        }
      ]
    },
    {
      "cell_type": "markdown",
      "source": [
        "10. Write a Python program to find URLs in a string.\n",
        "\n"
      ],
      "metadata": {
        "id": "Qdob8Ojkea-W"
      }
    },
    {
      "cell_type": "code",
      "source": [
        "import re\n",
        "text = '<p>Contents :</p><a href=\"https://w3resource.com\">Python Examples</a><a href=\"http://github.com\">Even More Examples</a>'\n",
        "\n",
        "\n",
        "url_pattern = r'https?://[^\\s<>\"]+|www\\.[^\\s<>\"]+'\n",
        "urls = re.findall(url_pattern, text)\n",
        "\n",
        "for url in urls:\n",
        "    print(url)\n"
      ],
      "metadata": {
        "id": "d9KUcdQEeIJu",
        "colab": {
          "base_uri": "https://localhost:8080/"
        },
        "outputId": "e8ddb0f2-1c80-4cf2-f2d5-b135fd89336f"
      },
      "execution_count": 11,
      "outputs": [
        {
          "output_type": "stream",
          "name": "stdout",
          "text": [
            "https://w3resource.com\n",
            "http://github.com\n"
          ]
        }
      ]
    },
    {
      "cell_type": "markdown",
      "source": [
        "11. Write a Python program to remove the parenthesis area in a string.\\\n",
        "\n",
        "Sample data : [\"example (.com)\", \"w3resource\", \"github (.com)\", \"stackoverflow (.com)\"] \\\n",
        "Expected Output: \\\n",
        "example  \\\n",
        "w3resource \\\n",
        "github  \\\n",
        "stackoverflow. \\\n",
        "\n"
      ],
      "metadata": {
        "id": "5mX_cCEFepSi"
      }
    },
    {
      "cell_type": "code",
      "source": [
        "import re\n",
        "\n",
        "sample_data = [\"example (.com)\", \"w3resource\", \"github (.com)\", \"stackoverflow (.com)\"]\n",
        "\n",
        "for data in sample_data:\n",
        "    cleaned_data = re.sub(r'\\s*\\([^)]*\\)', '', data)\n",
        "    print(cleaned_data)\n"
      ],
      "metadata": {
        "id": "CNYOSWfLee_M",
        "colab": {
          "base_uri": "https://localhost:8080/"
        },
        "outputId": "4a9ea98c-6f5c-4dfa-c14e-7ec08cd41b64"
      },
      "execution_count": 12,
      "outputs": [
        {
          "output_type": "stream",
          "name": "stdout",
          "text": [
            "example\n",
            "w3resource\n",
            "github\n",
            "stackoverflow\n"
          ]
        }
      ]
    },
    {
      "cell_type": "markdown",
      "source": [
        "12. Write a Python program to concatenate the consecutive numbers in a given string. \\\n",
        "\n",
        "Original string:  \\\n",
        "Enter at 1 20 Kearny Street. The security desk can direct you to floor 1 6. Please have your identification ready.  \\\n",
        "\n",
        "After concatenating the consecutive numbers in the said string:  \\\n",
        "Enter at 120 Kearny Street. The security desk can direct you to floor 16. Please have your identification ready."
      ],
      "metadata": {
        "id": "sRhveFHXe7nz"
      }
    },
    {
      "cell_type": "code",
      "source": [
        "import re\n",
        "\n",
        "original_string = \"Enter at 1 20 Kearny Street. The security desk can direct you to floor 1 6. Please have your identification ready.\"\n",
        "pattern = r'(\\d+)\\s+(\\d+)'\n",
        "\n",
        "modified_string = re.sub(pattern, r'\\1\\2', original_string)\n",
        "\n",
        "print(\"After concatenating the consecutive numbers in the said string:\")\n",
        "print(modified_string)\n"
      ],
      "metadata": {
        "id": "4dcBL0RTe_zP",
        "colab": {
          "base_uri": "https://localhost:8080/"
        },
        "outputId": "ca3d5d03-f04e-4793-9af2-6a7a846dcd00"
      },
      "execution_count": 13,
      "outputs": [
        {
          "output_type": "stream",
          "name": "stdout",
          "text": [
            "After concatenating the consecutive numbers in the said string:\n",
            "Enter at 120 Kearny Street. The security desk can direct you to floor 16. Please have your identification ready.\n"
          ]
        }
      ]
    },
    {
      "cell_type": "markdown",
      "source": [],
      "metadata": {
        "id": "rENrD10afBB3"
      }
    }
  ]
}